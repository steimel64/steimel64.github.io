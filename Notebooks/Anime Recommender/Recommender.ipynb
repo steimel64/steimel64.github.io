{
 "cells": [
  {
   "cell_type": "markdown",
   "metadata": {},
   "source": [
    "### Anime Recommender System- Anime Recommendations Database (Collaborative Filtering)"
   ]
  },
  {
   "cell_type": "markdown",
   "metadata": {},
   "source": [
    "Lets begin our implementation of a Collaborative Filtering Recommender System in Python. For this exercise we will be using the Anime Recommendations Database which contains recommendation data from 76,000 users at myanimelist.net and K-Nearest Neighbors clustering algorithm. \n",
    "\n",
    "My animelist.net is a popular site for viewing Anime online abroad which is self proclaimed as the world's most active online anime and manga community and database. \n",
    "There are two CSV files we will work with which are called anime.csv and ratings.csv. \n",
    "\n",
    "##### The anime.csv file contains many of the data related to the anime series including: \n",
    "* anime_id: (unique identifier for each anime)\n",
    "* name: (anime name) \n",
    "* genre: (what genres the anime belongs to) \n",
    "* type: (Type: movie, tv etc.) \n",
    "* episodes: (how many episodes does the show have?) \n",
    "* rating: (average rating out of 10) \n",
    "* members: (total members who are a part of the anime group on the website who have subscribed to the anime) \n",
    "\n",
    "##### The ratings.csv contains individual ratings of anime by users of the website and contains: \n",
    "* user_id (unique user id) \n",
    "* anime_id that was rated (unique identifier for anime rated) \n",
    "* rating- (rating given to anime by that user) \n",
    "\n",
    "These two data files will be utilized to build a recommender system. The goal of this dataset is to build a recommender system based on just viewing history and ratings. It is perhaps the biggest dataset related to anime customer preferences in the world. \n",
    "\n",
    "All Acknowledgements go to the myanimelist.net API which provides this data and it can also be downloaded from the below Kaggle Link: \n",
    "\n",
    "https://www.kaggle.com/CooperUnion/anime-recommendations-database\n",
    "\n",
    "![Anime](https://kaggle2.blob.core.windows.net/datasets-images/571/1094/c633ae058ddaa59f43649caac1748cf4/dataset-original.png)"
   ]
  },
  {
   "cell_type": "markdown",
   "metadata": {},
   "source": [
    "#### Preliminary Stuff - Import Packages/Data"
   ]
  },
  {
   "cell_type": "markdown",
   "metadata": {},
   "source": [
    "Lets first import the packages we'll need to create the recommender system including pandas, numpy, csr_matrix, and NearestNeighbors. "
   ]
  },
  {
   "cell_type": "code",
   "execution_count": 1,
   "metadata": {
    "collapsed": true
   },
   "outputs": [],
   "source": [
    "import pandas as pd\n",
    "import numpy as np \n",
    "from scipy.sparse import csr_matrix\n",
    "from sklearn.neighbors import NearestNeighbors\n",
    "%matplotlib inline "
   ]
  },
  {
   "cell_type": "markdown",
   "metadata": {},
   "source": [
    "Then we will read the two files rating.csv and anime.csv into the dataframes ratings and anime respectively. "
   ]
  },
  {
   "cell_type": "code",
   "execution_count": 2,
   "metadata": {
    "collapsed": true
   },
   "outputs": [],
   "source": [
    "ratings = pd.read_csv('rating.csv')\n",
    "anime = pd.read_csv('anime.csv')"
   ]
  },
  {
   "cell_type": "markdown",
   "metadata": {},
   "source": [
    "#### Data Exploration"
   ]
  },
  {
   "cell_type": "markdown",
   "metadata": {},
   "source": [
    "The next step is the data exploration step where we will get a feel for the data using various pandas functions. Performing the head function on the ratings and anime data frames gives us a quick insight into how the tables are structured. "
   ]
  },
  {
   "cell_type": "code",
   "execution_count": 3,
   "metadata": {},
   "outputs": [
    {
     "data": {
      "text/html": [
       "<div>\n",
       "<style scoped>\n",
       "    .dataframe tbody tr th:only-of-type {\n",
       "        vertical-align: middle;\n",
       "    }\n",
       "\n",
       "    .dataframe tbody tr th {\n",
       "        vertical-align: top;\n",
       "    }\n",
       "\n",
       "    .dataframe thead th {\n",
       "        text-align: right;\n",
       "    }\n",
       "</style>\n",
       "<table border=\"1\" class=\"dataframe\">\n",
       "  <thead>\n",
       "    <tr style=\"text-align: right;\">\n",
       "      <th></th>\n",
       "      <th>user_id</th>\n",
       "      <th>anime_id</th>\n",
       "      <th>rating</th>\n",
       "    </tr>\n",
       "  </thead>\n",
       "  <tbody>\n",
       "    <tr>\n",
       "      <th>0</th>\n",
       "      <td>1</td>\n",
       "      <td>20</td>\n",
       "      <td>-1</td>\n",
       "    </tr>\n",
       "    <tr>\n",
       "      <th>1</th>\n",
       "      <td>1</td>\n",
       "      <td>24</td>\n",
       "      <td>-1</td>\n",
       "    </tr>\n",
       "    <tr>\n",
       "      <th>2</th>\n",
       "      <td>1</td>\n",
       "      <td>79</td>\n",
       "      <td>-1</td>\n",
       "    </tr>\n",
       "    <tr>\n",
       "      <th>3</th>\n",
       "      <td>1</td>\n",
       "      <td>226</td>\n",
       "      <td>-1</td>\n",
       "    </tr>\n",
       "    <tr>\n",
       "      <th>4</th>\n",
       "      <td>1</td>\n",
       "      <td>241</td>\n",
       "      <td>-1</td>\n",
       "    </tr>\n",
       "  </tbody>\n",
       "</table>\n",
       "</div>"
      ],
      "text/plain": [
       "   user_id  anime_id  rating\n",
       "0        1        20      -1\n",
       "1        1        24      -1\n",
       "2        1        79      -1\n",
       "3        1       226      -1\n",
       "4        1       241      -1"
      ]
     },
     "execution_count": 3,
     "metadata": {},
     "output_type": "execute_result"
    }
   ],
   "source": [
    "ratings.head()"
   ]
  },
  {
   "cell_type": "code",
   "execution_count": 4,
   "metadata": {},
   "outputs": [
    {
     "data": {
      "text/html": [
       "<div>\n",
       "<style scoped>\n",
       "    .dataframe tbody tr th:only-of-type {\n",
       "        vertical-align: middle;\n",
       "    }\n",
       "\n",
       "    .dataframe tbody tr th {\n",
       "        vertical-align: top;\n",
       "    }\n",
       "\n",
       "    .dataframe thead th {\n",
       "        text-align: right;\n",
       "    }\n",
       "</style>\n",
       "<table border=\"1\" class=\"dataframe\">\n",
       "  <thead>\n",
       "    <tr style=\"text-align: right;\">\n",
       "      <th></th>\n",
       "      <th>anime_id</th>\n",
       "      <th>name</th>\n",
       "      <th>genre</th>\n",
       "      <th>type</th>\n",
       "      <th>episodes</th>\n",
       "      <th>rating</th>\n",
       "      <th>members</th>\n",
       "    </tr>\n",
       "  </thead>\n",
       "  <tbody>\n",
       "    <tr>\n",
       "      <th>0</th>\n",
       "      <td>32281</td>\n",
       "      <td>Kimi no Na wa.</td>\n",
       "      <td>Drama, Romance, School, Supernatural</td>\n",
       "      <td>Movie</td>\n",
       "      <td>1</td>\n",
       "      <td>9.37</td>\n",
       "      <td>200630</td>\n",
       "    </tr>\n",
       "    <tr>\n",
       "      <th>1</th>\n",
       "      <td>5114</td>\n",
       "      <td>Fullmetal Alchemist: Brotherhood</td>\n",
       "      <td>Action, Adventure, Drama, Fantasy, Magic, Mili...</td>\n",
       "      <td>TV</td>\n",
       "      <td>64</td>\n",
       "      <td>9.26</td>\n",
       "      <td>793665</td>\n",
       "    </tr>\n",
       "    <tr>\n",
       "      <th>2</th>\n",
       "      <td>28977</td>\n",
       "      <td>Gintama°</td>\n",
       "      <td>Action, Comedy, Historical, Parody, Samurai, S...</td>\n",
       "      <td>TV</td>\n",
       "      <td>51</td>\n",
       "      <td>9.25</td>\n",
       "      <td>114262</td>\n",
       "    </tr>\n",
       "    <tr>\n",
       "      <th>3</th>\n",
       "      <td>9253</td>\n",
       "      <td>Steins;Gate</td>\n",
       "      <td>Sci-Fi, Thriller</td>\n",
       "      <td>TV</td>\n",
       "      <td>24</td>\n",
       "      <td>9.17</td>\n",
       "      <td>673572</td>\n",
       "    </tr>\n",
       "    <tr>\n",
       "      <th>4</th>\n",
       "      <td>9969</td>\n",
       "      <td>Gintama&amp;#039;</td>\n",
       "      <td>Action, Comedy, Historical, Parody, Samurai, S...</td>\n",
       "      <td>TV</td>\n",
       "      <td>51</td>\n",
       "      <td>9.16</td>\n",
       "      <td>151266</td>\n",
       "    </tr>\n",
       "  </tbody>\n",
       "</table>\n",
       "</div>"
      ],
      "text/plain": [
       "   anime_id                              name  \\\n",
       "0     32281                    Kimi no Na wa.   \n",
       "1      5114  Fullmetal Alchemist: Brotherhood   \n",
       "2     28977                          Gintama°   \n",
       "3      9253                       Steins;Gate   \n",
       "4      9969                     Gintama&#039;   \n",
       "\n",
       "                                               genre   type episodes  rating  \\\n",
       "0               Drama, Romance, School, Supernatural  Movie        1    9.37   \n",
       "1  Action, Adventure, Drama, Fantasy, Magic, Mili...     TV       64    9.26   \n",
       "2  Action, Comedy, Historical, Parody, Samurai, S...     TV       51    9.25   \n",
       "3                                   Sci-Fi, Thriller     TV       24    9.17   \n",
       "4  Action, Comedy, Historical, Parody, Samurai, S...     TV       51    9.16   \n",
       "\n",
       "   members  \n",
       "0   200630  \n",
       "1   793665  \n",
       "2   114262  \n",
       "3   673572  \n",
       "4   151266  "
      ]
     },
     "execution_count": 4,
     "metadata": {},
     "output_type": "execute_result"
    }
   ],
   "source": [
    "anime.head()"
   ]
  },
  {
   "cell_type": "markdown",
   "metadata": {},
   "source": [
    "Lets sort the anime values by members which is the amount of people subscribed to the anime. We can use this measure to illustrate the most popular animes on the website. \n",
    "It looks like the top five animes were Death Note, Shingeki no Kyojin, Sword Art Online, Fullmetal Alchemist: Brotherhood, and Angel Beats! \n",
    "\n",
    "I notice that Naruto has alot of members despite having a 7.81 rating. I guess people are on the fence about this anime despite its popularity. "
   ]
  },
  {
   "cell_type": "code",
   "execution_count": 5,
   "metadata": {},
   "outputs": [
    {
     "data": {
      "text/html": [
       "<div>\n",
       "<style scoped>\n",
       "    .dataframe tbody tr th:only-of-type {\n",
       "        vertical-align: middle;\n",
       "    }\n",
       "\n",
       "    .dataframe tbody tr th {\n",
       "        vertical-align: top;\n",
       "    }\n",
       "\n",
       "    .dataframe thead th {\n",
       "        text-align: right;\n",
       "    }\n",
       "</style>\n",
       "<table border=\"1\" class=\"dataframe\">\n",
       "  <thead>\n",
       "    <tr style=\"text-align: right;\">\n",
       "      <th></th>\n",
       "      <th>anime_id</th>\n",
       "      <th>name</th>\n",
       "      <th>genre</th>\n",
       "      <th>type</th>\n",
       "      <th>episodes</th>\n",
       "      <th>rating</th>\n",
       "      <th>members</th>\n",
       "    </tr>\n",
       "  </thead>\n",
       "  <tbody>\n",
       "    <tr>\n",
       "      <th>40</th>\n",
       "      <td>1535</td>\n",
       "      <td>Death Note</td>\n",
       "      <td>Mystery, Police, Psychological, Supernatural, ...</td>\n",
       "      <td>TV</td>\n",
       "      <td>37</td>\n",
       "      <td>8.71</td>\n",
       "      <td>1013917</td>\n",
       "    </tr>\n",
       "    <tr>\n",
       "      <th>86</th>\n",
       "      <td>16498</td>\n",
       "      <td>Shingeki no Kyojin</td>\n",
       "      <td>Action, Drama, Fantasy, Shounen, Super Power</td>\n",
       "      <td>TV</td>\n",
       "      <td>25</td>\n",
       "      <td>8.54</td>\n",
       "      <td>896229</td>\n",
       "    </tr>\n",
       "    <tr>\n",
       "      <th>804</th>\n",
       "      <td>11757</td>\n",
       "      <td>Sword Art Online</td>\n",
       "      <td>Action, Adventure, Fantasy, Game, Romance</td>\n",
       "      <td>TV</td>\n",
       "      <td>25</td>\n",
       "      <td>7.83</td>\n",
       "      <td>893100</td>\n",
       "    </tr>\n",
       "    <tr>\n",
       "      <th>1</th>\n",
       "      <td>5114</td>\n",
       "      <td>Fullmetal Alchemist: Brotherhood</td>\n",
       "      <td>Action, Adventure, Drama, Fantasy, Magic, Mili...</td>\n",
       "      <td>TV</td>\n",
       "      <td>64</td>\n",
       "      <td>9.26</td>\n",
       "      <td>793665</td>\n",
       "    </tr>\n",
       "    <tr>\n",
       "      <th>159</th>\n",
       "      <td>6547</td>\n",
       "      <td>Angel Beats!</td>\n",
       "      <td>Action, Comedy, Drama, School, Supernatural</td>\n",
       "      <td>TV</td>\n",
       "      <td>13</td>\n",
       "      <td>8.39</td>\n",
       "      <td>717796</td>\n",
       "    </tr>\n",
       "    <tr>\n",
       "      <th>19</th>\n",
       "      <td>1575</td>\n",
       "      <td>Code Geass: Hangyaku no Lelouch</td>\n",
       "      <td>Action, Mecha, Military, School, Sci-Fi, Super...</td>\n",
       "      <td>TV</td>\n",
       "      <td>25</td>\n",
       "      <td>8.83</td>\n",
       "      <td>715151</td>\n",
       "    </tr>\n",
       "    <tr>\n",
       "      <th>841</th>\n",
       "      <td>20</td>\n",
       "      <td>Naruto</td>\n",
       "      <td>Action, Comedy, Martial Arts, Shounen, Super P...</td>\n",
       "      <td>TV</td>\n",
       "      <td>220</td>\n",
       "      <td>7.81</td>\n",
       "      <td>683297</td>\n",
       "    </tr>\n",
       "    <tr>\n",
       "      <th>3</th>\n",
       "      <td>9253</td>\n",
       "      <td>Steins;Gate</td>\n",
       "      <td>Sci-Fi, Thriller</td>\n",
       "      <td>TV</td>\n",
       "      <td>24</td>\n",
       "      <td>9.17</td>\n",
       "      <td>673572</td>\n",
       "    </tr>\n",
       "    <tr>\n",
       "      <th>445</th>\n",
       "      <td>10620</td>\n",
       "      <td>Mirai Nikki (TV)</td>\n",
       "      <td>Action, Mystery, Psychological, Shounen, Super...</td>\n",
       "      <td>TV</td>\n",
       "      <td>26</td>\n",
       "      <td>8.07</td>\n",
       "      <td>657190</td>\n",
       "    </tr>\n",
       "    <tr>\n",
       "      <th>131</th>\n",
       "      <td>4224</td>\n",
       "      <td>Toradora!</td>\n",
       "      <td>Comedy, Romance, School, Slice of Life</td>\n",
       "      <td>TV</td>\n",
       "      <td>25</td>\n",
       "      <td>8.45</td>\n",
       "      <td>633817</td>\n",
       "    </tr>\n",
       "  </tbody>\n",
       "</table>\n",
       "</div>"
      ],
      "text/plain": [
       "     anime_id                              name  \\\n",
       "40       1535                        Death Note   \n",
       "86      16498                Shingeki no Kyojin   \n",
       "804     11757                  Sword Art Online   \n",
       "1        5114  Fullmetal Alchemist: Brotherhood   \n",
       "159      6547                      Angel Beats!   \n",
       "19       1575   Code Geass: Hangyaku no Lelouch   \n",
       "841        20                            Naruto   \n",
       "3        9253                       Steins;Gate   \n",
       "445     10620                  Mirai Nikki (TV)   \n",
       "131      4224                         Toradora!   \n",
       "\n",
       "                                                 genre type episodes  rating  \\\n",
       "40   Mystery, Police, Psychological, Supernatural, ...   TV       37    8.71   \n",
       "86        Action, Drama, Fantasy, Shounen, Super Power   TV       25    8.54   \n",
       "804          Action, Adventure, Fantasy, Game, Romance   TV       25    7.83   \n",
       "1    Action, Adventure, Drama, Fantasy, Magic, Mili...   TV       64    9.26   \n",
       "159        Action, Comedy, Drama, School, Supernatural   TV       13    8.39   \n",
       "19   Action, Mecha, Military, School, Sci-Fi, Super...   TV       25    8.83   \n",
       "841  Action, Comedy, Martial Arts, Shounen, Super P...   TV      220    7.81   \n",
       "3                                     Sci-Fi, Thriller   TV       24    9.17   \n",
       "445  Action, Mystery, Psychological, Shounen, Super...   TV       26    8.07   \n",
       "131             Comedy, Romance, School, Slice of Life   TV       25    8.45   \n",
       "\n",
       "     members  \n",
       "40   1013917  \n",
       "86    896229  \n",
       "804   893100  \n",
       "1     793665  \n",
       "159   717796  \n",
       "19    715151  \n",
       "841   683297  \n",
       "3     673572  \n",
       "445   657190  \n",
       "131   633817  "
      ]
     },
     "execution_count": 5,
     "metadata": {},
     "output_type": "execute_result"
    }
   ],
   "source": [
    "anime.sort_values('members', ascending= False)[:10]"
   ]
  },
  {
   "cell_type": "markdown",
   "metadata": {},
   "source": [
    "Lets look at some more descriptive statistics for the anime and ratings table. There are two things that really stuck out to me when looking at these statistics.  There are animes in this dataset with only 5 members while the most members subscribed is around 1,013,917. This is quite a huge difference between the min and max. In addition, 25 % of animes have 225 members or less while 25 % seem to have over 9,000 members.  "
   ]
  },
  {
   "cell_type": "code",
   "execution_count": 6,
   "metadata": {},
   "outputs": [
    {
     "data": {
      "text/html": [
       "<div>\n",
       "<style scoped>\n",
       "    .dataframe tbody tr th:only-of-type {\n",
       "        vertical-align: middle;\n",
       "    }\n",
       "\n",
       "    .dataframe tbody tr th {\n",
       "        vertical-align: top;\n",
       "    }\n",
       "\n",
       "    .dataframe thead th {\n",
       "        text-align: right;\n",
       "    }\n",
       "</style>\n",
       "<table border=\"1\" class=\"dataframe\">\n",
       "  <thead>\n",
       "    <tr style=\"text-align: right;\">\n",
       "      <th></th>\n",
       "      <th>anime_id</th>\n",
       "      <th>rating</th>\n",
       "      <th>members</th>\n",
       "    </tr>\n",
       "  </thead>\n",
       "  <tbody>\n",
       "    <tr>\n",
       "      <th>count</th>\n",
       "      <td>12294.00</td>\n",
       "      <td>12064.00</td>\n",
       "      <td>12294.00</td>\n",
       "    </tr>\n",
       "    <tr>\n",
       "      <th>mean</th>\n",
       "      <td>14058.22</td>\n",
       "      <td>6.47</td>\n",
       "      <td>18071.34</td>\n",
       "    </tr>\n",
       "    <tr>\n",
       "      <th>std</th>\n",
       "      <td>11455.29</td>\n",
       "      <td>1.03</td>\n",
       "      <td>54820.68</td>\n",
       "    </tr>\n",
       "    <tr>\n",
       "      <th>min</th>\n",
       "      <td>1.00</td>\n",
       "      <td>1.67</td>\n",
       "      <td>5.00</td>\n",
       "    </tr>\n",
       "    <tr>\n",
       "      <th>25%</th>\n",
       "      <td>3484.25</td>\n",
       "      <td>5.88</td>\n",
       "      <td>225.00</td>\n",
       "    </tr>\n",
       "    <tr>\n",
       "      <th>50%</th>\n",
       "      <td>10260.50</td>\n",
       "      <td>6.57</td>\n",
       "      <td>1550.00</td>\n",
       "    </tr>\n",
       "    <tr>\n",
       "      <th>75%</th>\n",
       "      <td>24794.50</td>\n",
       "      <td>7.18</td>\n",
       "      <td>9437.00</td>\n",
       "    </tr>\n",
       "    <tr>\n",
       "      <th>max</th>\n",
       "      <td>34527.00</td>\n",
       "      <td>10.00</td>\n",
       "      <td>1013917.00</td>\n",
       "    </tr>\n",
       "  </tbody>\n",
       "</table>\n",
       "</div>"
      ],
      "text/plain": [
       "       anime_id    rating     members\n",
       "count  12294.00  12064.00    12294.00\n",
       "mean   14058.22      6.47    18071.34\n",
       "std    11455.29      1.03    54820.68\n",
       "min        1.00      1.67        5.00\n",
       "25%     3484.25      5.88      225.00\n",
       "50%    10260.50      6.57     1550.00\n",
       "75%    24794.50      7.18     9437.00\n",
       "max    34527.00     10.00  1013917.00"
      ]
     },
     "execution_count": 6,
     "metadata": {},
     "output_type": "execute_result"
    }
   ],
   "source": [
    "round(anime.describe(),2)"
   ]
  },
  {
   "cell_type": "markdown",
   "metadata": {},
   "source": [
    "When looking at the describe function and ratings we can clearly see the min is -1 and mean is around 7. We will need to address the -1's in our future recommender model. According to the dataset providers, -1 indicates that a user watched the anime but did not provide a recommendation. This would indicate indiference to the anime meaning we can drop it from the dataset in the data cleaning phase as it would not really help our model. "
   ]
  },
  {
   "cell_type": "code",
   "execution_count": 7,
   "metadata": {},
   "outputs": [
    {
     "data": {
      "text/html": [
       "<div>\n",
       "<style scoped>\n",
       "    .dataframe tbody tr th:only-of-type {\n",
       "        vertical-align: middle;\n",
       "    }\n",
       "\n",
       "    .dataframe tbody tr th {\n",
       "        vertical-align: top;\n",
       "    }\n",
       "\n",
       "    .dataframe thead th {\n",
       "        text-align: right;\n",
       "    }\n",
       "</style>\n",
       "<table border=\"1\" class=\"dataframe\">\n",
       "  <thead>\n",
       "    <tr style=\"text-align: right;\">\n",
       "      <th></th>\n",
       "      <th>user_id</th>\n",
       "      <th>anime_id</th>\n",
       "      <th>rating</th>\n",
       "    </tr>\n",
       "  </thead>\n",
       "  <tbody>\n",
       "    <tr>\n",
       "      <th>count</th>\n",
       "      <td>7813737.00</td>\n",
       "      <td>7813737.00</td>\n",
       "      <td>7813737.00</td>\n",
       "    </tr>\n",
       "    <tr>\n",
       "      <th>mean</th>\n",
       "      <td>36727.96</td>\n",
       "      <td>8909.07</td>\n",
       "      <td>6.14</td>\n",
       "    </tr>\n",
       "    <tr>\n",
       "      <th>std</th>\n",
       "      <td>20997.95</td>\n",
       "      <td>8883.95</td>\n",
       "      <td>3.73</td>\n",
       "    </tr>\n",
       "    <tr>\n",
       "      <th>min</th>\n",
       "      <td>1.00</td>\n",
       "      <td>1.00</td>\n",
       "      <td>-1.00</td>\n",
       "    </tr>\n",
       "    <tr>\n",
       "      <th>25%</th>\n",
       "      <td>18974.00</td>\n",
       "      <td>1240.00</td>\n",
       "      <td>6.00</td>\n",
       "    </tr>\n",
       "    <tr>\n",
       "      <th>50%</th>\n",
       "      <td>36791.00</td>\n",
       "      <td>6213.00</td>\n",
       "      <td>7.00</td>\n",
       "    </tr>\n",
       "    <tr>\n",
       "      <th>75%</th>\n",
       "      <td>54757.00</td>\n",
       "      <td>14093.00</td>\n",
       "      <td>9.00</td>\n",
       "    </tr>\n",
       "    <tr>\n",
       "      <th>max</th>\n",
       "      <td>73516.00</td>\n",
       "      <td>34519.00</td>\n",
       "      <td>10.00</td>\n",
       "    </tr>\n",
       "  </tbody>\n",
       "</table>\n",
       "</div>"
      ],
      "text/plain": [
       "          user_id    anime_id      rating\n",
       "count  7813737.00  7813737.00  7813737.00\n",
       "mean     36727.96     8909.07        6.14\n",
       "std      20997.95     8883.95        3.73\n",
       "min          1.00        1.00       -1.00\n",
       "25%      18974.00     1240.00        6.00\n",
       "50%      36791.00     6213.00        7.00\n",
       "75%      54757.00    14093.00        9.00\n",
       "max      73516.00    34519.00       10.00"
      ]
     },
     "execution_count": 7,
     "metadata": {},
     "output_type": "execute_result"
    }
   ],
   "source": [
    "round(ratings.describe(),2)"
   ]
  },
  {
   "cell_type": "markdown",
   "metadata": {},
   "source": [
    "Lets now plot the distribution of user ratings and see how that looks. It looks like a majority of the ratings are either -1 (which represents no rating) or are in the 7 or above range. "
   ]
  },
  {
   "cell_type": "code",
   "execution_count": 8,
   "metadata": {},
   "outputs": [
    {
     "data": {
      "text/plain": [
       "<matplotlib.axes._subplots.AxesSubplot at 0x10e9883c8>"
      ]
     },
     "execution_count": 8,
     "metadata": {},
     "output_type": "execute_result"
    },
    {
     "data": {
      "image/png": "[encoded data removed]",
      "text/plain": [
       "<Figure size 720x720 with 1 Axes>"
      ]
     },
     "metadata": {},
     "output_type": "display_data"
    }
   ],
   "source": [
    "ratings['rating'].hist(bins=11, figsize=(10,10), color = 'crimson')"
   ]
  },
  {
   "cell_type": "markdown",
   "metadata": {},
   "source": [
    "#### Data Cleaning"
   ]
  },
  {
   "cell_type": "markdown",
   "metadata": {},
   "source": [
    "Now we will begin the data cleaning phase where we will clean up anything odd about the data and transform it into a format that our k-nearest neighbors algorithm can be fitted on. \n",
    "\n",
    "As for step one, we will want to filter down the system to be greater than 10000 recommendations to improve quality of recommendations and reduce noise in the data. We dont want the recommender to be recommending animes with a low amount of members. Lets set a threshold of .75 percentile to 100th percentile shows for member totals and filter everything else out. "
   ]
  },
  {
   "cell_type": "code",
   "execution_count": 9,
   "metadata": {},
   "outputs": [
    {
     "name": "stdout",
     "output_type": "stream",
     "text": [
      "0.65      4070.35\n",
      "0.66      4416.90\n",
      "0.67      4778.86\n",
      "0.68      5135.48\n",
      "0.69      5600.00\n",
      "0.70      6061.20\n",
      "0.71      6601.09\n",
      "0.72      7131.96\n",
      "0.73      7845.67\n",
      "0.74      8564.28\n",
      "0.75      9437.00\n",
      "0.76     10305.04\n",
      "0.77     11475.93\n",
      "0.78     12487.62\n",
      "0.79     13685.70\n",
      "0.80     14932.80\n",
      "0.81     16510.25\n",
      "0.82     18318.44\n",
      "0.83     20135.61\n",
      "0.84     22158.56\n",
      "0.85     24524.10\n",
      "0.86     27758.06\n",
      "0.87     31230.49\n",
      "0.88     35341.16\n",
      "0.89     39927.60\n",
      "0.90     45188.70\n",
      "0.91     51271.94\n",
      "0.92     58321.60\n",
      "0.93     68153.97\n",
      "0.94     80609.88\n",
      "0.95     93164.30\n",
      "0.96    108663.84\n",
      "0.97    139500.67\n",
      "0.98    187928.20\n",
      "0.99    276774.30\n",
      "Name: members, dtype: float64\n"
     ]
    }
   ],
   "source": [
    "print(anime['members'].quantile(np.arange(.65, 1, .01)))"
   ]
  },
  {
   "cell_type": "code",
   "execution_count": 10,
   "metadata": {
    "collapsed": true
   },
   "outputs": [],
   "source": [
    "anime = anime[anime['members'] > 10000]"
   ]
  },
  {
   "cell_type": "markdown",
   "metadata": {},
   "source": [
    "Next, lets check for null values as we dont really need these data values in the model. It looks like we have null values in the genre, type, and rating columns so lets drop these values. "
   ]
  },
  {
   "cell_type": "code",
   "execution_count": 11,
   "metadata": {},
   "outputs": [
    {
     "data": {
      "text/plain": [
       "anime_id    False\n",
       "name        False\n",
       "genre        True\n",
       "type         True\n",
       "episodes    False\n",
       "rating       True\n",
       "members     False\n",
       "dtype: bool"
      ]
     },
     "execution_count": 11,
     "metadata": {},
     "output_type": "execute_result"
    }
   ],
   "source": [
    "anime.isnull().any()"
   ]
  },
  {
   "cell_type": "code",
   "execution_count": 12,
   "metadata": {},
   "outputs": [
    {
     "data": {
      "text/plain": [
       "anime_id     0\n",
       "name         0\n",
       "genre        2\n",
       "type         4\n",
       "episodes     0\n",
       "rating      43\n",
       "members      0\n",
       "dtype: int64"
      ]
     },
     "execution_count": 12,
     "metadata": {},
     "output_type": "execute_result"
    }
   ],
   "source": [
    "anime.isnull().sum()"
   ]
  },
  {
   "cell_type": "code",
   "execution_count": 13,
   "metadata": {
    "collapsed": true
   },
   "outputs": [],
   "source": [
    "anime = anime.dropna()"
   ]
  },
  {
   "cell_type": "markdown",
   "metadata": {},
   "source": [
    "Now that we have cleaned the anime dataframe lets work on cleaning the ratings dataframe. If you remember from our initial describe function, there are some -1's in our data which need to be removed. These -1's represent a watch by the user but no rating. Lets just filter the ratings table to include 0 and above for this exercise. "
   ]
  },
  {
   "cell_type": "code",
   "execution_count": 14,
   "metadata": {
    "collapsed": true
   },
   "outputs": [],
   "source": [
    "ratings = ratings[ratings.rating >= 0]"
   ]
  },
  {
   "cell_type": "markdown",
   "metadata": {},
   "source": [
    "We can see now with the describe function that the lowest rating is 1 and the highest rating is 10. The database has 6,337,241 ratings and the average was an 8 on the website. (Filtered down from nearly 8 million ratings) Now thats alot of ratings and data ! "
   ]
  },
  {
   "cell_type": "code",
   "execution_count": 15,
   "metadata": {},
   "outputs": [
    {
     "data": {
      "text/html": [
       "<div>\n",
       "<style scoped>\n",
       "    .dataframe tbody tr th:only-of-type {\n",
       "        vertical-align: middle;\n",
       "    }\n",
       "\n",
       "    .dataframe tbody tr th {\n",
       "        vertical-align: top;\n",
       "    }\n",
       "\n",
       "    .dataframe thead th {\n",
       "        text-align: right;\n",
       "    }\n",
       "</style>\n",
       "<table border=\"1\" class=\"dataframe\">\n",
       "  <thead>\n",
       "    <tr style=\"text-align: right;\">\n",
       "      <th></th>\n",
       "      <th>user_id</th>\n",
       "      <th>anime_id</th>\n",
       "      <th>rating</th>\n",
       "    </tr>\n",
       "  </thead>\n",
       "  <tbody>\n",
       "    <tr>\n",
       "      <th>count</th>\n",
       "      <td>6337241.00</td>\n",
       "      <td>6337241.00</td>\n",
       "      <td>6337241.00</td>\n",
       "    </tr>\n",
       "    <tr>\n",
       "      <th>mean</th>\n",
       "      <td>36747.91</td>\n",
       "      <td>8902.87</td>\n",
       "      <td>7.81</td>\n",
       "    </tr>\n",
       "    <tr>\n",
       "      <th>std</th>\n",
       "      <td>21013.40</td>\n",
       "      <td>8882.00</td>\n",
       "      <td>1.57</td>\n",
       "    </tr>\n",
       "    <tr>\n",
       "      <th>min</th>\n",
       "      <td>1.00</td>\n",
       "      <td>1.00</td>\n",
       "      <td>1.00</td>\n",
       "    </tr>\n",
       "    <tr>\n",
       "      <th>25%</th>\n",
       "      <td>18984.00</td>\n",
       "      <td>1239.00</td>\n",
       "      <td>7.00</td>\n",
       "    </tr>\n",
       "    <tr>\n",
       "      <th>50%</th>\n",
       "      <td>36815.00</td>\n",
       "      <td>6213.00</td>\n",
       "      <td>8.00</td>\n",
       "    </tr>\n",
       "    <tr>\n",
       "      <th>75%</th>\n",
       "      <td>54873.00</td>\n",
       "      <td>14075.00</td>\n",
       "      <td>9.00</td>\n",
       "    </tr>\n",
       "    <tr>\n",
       "      <th>max</th>\n",
       "      <td>73516.00</td>\n",
       "      <td>34475.00</td>\n",
       "      <td>10.00</td>\n",
       "    </tr>\n",
       "  </tbody>\n",
       "</table>\n",
       "</div>"
      ],
      "text/plain": [
       "          user_id    anime_id      rating\n",
       "count  6337241.00  6337241.00  6337241.00\n",
       "mean     36747.91     8902.87        7.81\n",
       "std      21013.40     8882.00        1.57\n",
       "min          1.00        1.00        1.00\n",
       "25%      18984.00     1239.00        7.00\n",
       "50%      36815.00     6213.00        8.00\n",
       "75%      54873.00    14075.00        9.00\n",
       "max      73516.00    34475.00       10.00"
      ]
     },
     "execution_count": 15,
     "metadata": {},
     "output_type": "execute_result"
    }
   ],
   "source": [
    "round(ratings.describe(),2)"
   ]
  },
  {
   "cell_type": "markdown",
   "metadata": {},
   "source": [
    "Now that data cleaning is complete, we can merge the data frames to create one large df called mergeddf. This merge function is extremely important if you ever need to work with multiple data sources in the future. It allows you to join two tables (data frames) by a matching identifier or key. We can now see each user that rated a specific anime in one table.  "
   ]
  },
  {
   "cell_type": "code",
   "execution_count": 16,
   "metadata": {},
   "outputs": [
    {
     "data": {
      "text/html": [
       "<div>\n",
       "<style scoped>\n",
       "    .dataframe tbody tr th:only-of-type {\n",
       "        vertical-align: middle;\n",
       "    }\n",
       "\n",
       "    .dataframe tbody tr th {\n",
       "        vertical-align: top;\n",
       "    }\n",
       "\n",
       "    .dataframe thead th {\n",
       "        text-align: right;\n",
       "    }\n",
       "</style>\n",
       "<table border=\"1\" class=\"dataframe\">\n",
       "  <thead>\n",
       "    <tr style=\"text-align: right;\">\n",
       "      <th></th>\n",
       "      <th>user_id</th>\n",
       "      <th>anime_id</th>\n",
       "      <th>rating_user</th>\n",
       "      <th>name</th>\n",
       "      <th>genre</th>\n",
       "      <th>type</th>\n",
       "      <th>episodes</th>\n",
       "      <th>rating</th>\n",
       "      <th>members</th>\n",
       "    </tr>\n",
       "  </thead>\n",
       "  <tbody>\n",
       "    <tr>\n",
       "      <th>0</th>\n",
       "      <td>1</td>\n",
       "      <td>8074</td>\n",
       "      <td>10</td>\n",
       "      <td>Highschool of the Dead</td>\n",
       "      <td>Action, Ecchi, Horror, Supernatural</td>\n",
       "      <td>TV</td>\n",
       "      <td>12</td>\n",
       "      <td>7.46</td>\n",
       "      <td>535892</td>\n",
       "    </tr>\n",
       "    <tr>\n",
       "      <th>1</th>\n",
       "      <td>3</td>\n",
       "      <td>8074</td>\n",
       "      <td>6</td>\n",
       "      <td>Highschool of the Dead</td>\n",
       "      <td>Action, Ecchi, Horror, Supernatural</td>\n",
       "      <td>TV</td>\n",
       "      <td>12</td>\n",
       "      <td>7.46</td>\n",
       "      <td>535892</td>\n",
       "    </tr>\n",
       "    <tr>\n",
       "      <th>2</th>\n",
       "      <td>5</td>\n",
       "      <td>8074</td>\n",
       "      <td>2</td>\n",
       "      <td>Highschool of the Dead</td>\n",
       "      <td>Action, Ecchi, Horror, Supernatural</td>\n",
       "      <td>TV</td>\n",
       "      <td>12</td>\n",
       "      <td>7.46</td>\n",
       "      <td>535892</td>\n",
       "    </tr>\n",
       "    <tr>\n",
       "      <th>3</th>\n",
       "      <td>12</td>\n",
       "      <td>8074</td>\n",
       "      <td>6</td>\n",
       "      <td>Highschool of the Dead</td>\n",
       "      <td>Action, Ecchi, Horror, Supernatural</td>\n",
       "      <td>TV</td>\n",
       "      <td>12</td>\n",
       "      <td>7.46</td>\n",
       "      <td>535892</td>\n",
       "    </tr>\n",
       "    <tr>\n",
       "      <th>4</th>\n",
       "      <td>14</td>\n",
       "      <td>8074</td>\n",
       "      <td>6</td>\n",
       "      <td>Highschool of the Dead</td>\n",
       "      <td>Action, Ecchi, Horror, Supernatural</td>\n",
       "      <td>TV</td>\n",
       "      <td>12</td>\n",
       "      <td>7.46</td>\n",
       "      <td>535892</td>\n",
       "    </tr>\n",
       "  </tbody>\n",
       "</table>\n",
       "</div>"
      ],
      "text/plain": [
       "   user_id  anime_id  rating_user                    name  \\\n",
       "0        1      8074           10  Highschool of the Dead   \n",
       "1        3      8074            6  Highschool of the Dead   \n",
       "2        5      8074            2  Highschool of the Dead   \n",
       "3       12      8074            6  Highschool of the Dead   \n",
       "4       14      8074            6  Highschool of the Dead   \n",
       "\n",
       "                                 genre type episodes  rating  members  \n",
       "0  Action, Ecchi, Horror, Supernatural   TV       12    7.46   535892  \n",
       "1  Action, Ecchi, Horror, Supernatural   TV       12    7.46   535892  \n",
       "2  Action, Ecchi, Horror, Supernatural   TV       12    7.46   535892  \n",
       "3  Action, Ecchi, Horror, Supernatural   TV       12    7.46   535892  \n",
       "4  Action, Ecchi, Horror, Supernatural   TV       12    7.46   535892  "
      ]
     },
     "execution_count": 16,
     "metadata": {},
     "output_type": "execute_result"
    }
   ],
   "source": [
    "mergeddf = ratings.merge(anime, left_on = 'anime_id', right_on = 'anime_id', suffixes= ['_user', ''])\n",
    "mergeddf.head()"
   ]
  },
  {
   "cell_type": "code",
   "execution_count": 17,
   "metadata": {},
   "outputs": [
    {
     "data": {
      "text/html": [
       "<div>\n",
       "<style scoped>\n",
       "    .dataframe tbody tr th:only-of-type {\n",
       "        vertical-align: middle;\n",
       "    }\n",
       "\n",
       "    .dataframe tbody tr th {\n",
       "        vertical-align: top;\n",
       "    }\n",
       "\n",
       "    .dataframe thead th {\n",
       "        text-align: right;\n",
       "    }\n",
       "</style>\n",
       "<table border=\"1\" class=\"dataframe\">\n",
       "  <thead>\n",
       "    <tr style=\"text-align: right;\">\n",
       "      <th></th>\n",
       "      <th>user_id</th>\n",
       "      <th>anime_id</th>\n",
       "      <th>rating_user</th>\n",
       "      <th>rating</th>\n",
       "      <th>members</th>\n",
       "    </tr>\n",
       "  </thead>\n",
       "  <tbody>\n",
       "    <tr>\n",
       "      <th>count</th>\n",
       "      <td>5957004.00</td>\n",
       "      <td>5957004.00</td>\n",
       "      <td>5957004.00</td>\n",
       "      <td>5957004.00</td>\n",
       "      <td>5957004.00</td>\n",
       "    </tr>\n",
       "    <tr>\n",
       "      <th>mean</th>\n",
       "      <td>36665.80</td>\n",
       "      <td>9023.38</td>\n",
       "      <td>7.87</td>\n",
       "      <td>7.74</td>\n",
       "      <td>196030.78</td>\n",
       "    </tr>\n",
       "    <tr>\n",
       "      <th>std</th>\n",
       "      <td>21030.91</td>\n",
       "      <td>8920.21</td>\n",
       "      <td>1.54</td>\n",
       "      <td>0.62</td>\n",
       "      <td>191317.96</td>\n",
       "    </tr>\n",
       "    <tr>\n",
       "      <th>min</th>\n",
       "      <td>1.00</td>\n",
       "      <td>1.00</td>\n",
       "      <td>1.00</td>\n",
       "      <td>2.37</td>\n",
       "      <td>10005.00</td>\n",
       "    </tr>\n",
       "    <tr>\n",
       "      <th>25%</th>\n",
       "      <td>18911.00</td>\n",
       "      <td>1195.00</td>\n",
       "      <td>7.00</td>\n",
       "      <td>7.35</td>\n",
       "      <td>57029.00</td>\n",
       "    </tr>\n",
       "    <tr>\n",
       "      <th>50%</th>\n",
       "      <td>36534.00</td>\n",
       "      <td>6500.00</td>\n",
       "      <td>8.00</td>\n",
       "      <td>7.74</td>\n",
       "      <td>130689.00</td>\n",
       "    </tr>\n",
       "    <tr>\n",
       "      <th>75%</th>\n",
       "      <td>54851.00</td>\n",
       "      <td>14345.00</td>\n",
       "      <td>9.00</td>\n",
       "      <td>8.17</td>\n",
       "      <td>271484.00</td>\n",
       "    </tr>\n",
       "    <tr>\n",
       "      <th>max</th>\n",
       "      <td>73516.00</td>\n",
       "      <td>34240.00</td>\n",
       "      <td>10.00</td>\n",
       "      <td>9.37</td>\n",
       "      <td>1013917.00</td>\n",
       "    </tr>\n",
       "  </tbody>\n",
       "</table>\n",
       "</div>"
      ],
      "text/plain": [
       "          user_id    anime_id  rating_user      rating     members\n",
       "count  5957004.00  5957004.00   5957004.00  5957004.00  5957004.00\n",
       "mean     36665.80     9023.38         7.87        7.74   196030.78\n",
       "std      21030.91     8920.21         1.54        0.62   191317.96\n",
       "min          1.00        1.00         1.00        2.37    10005.00\n",
       "25%      18911.00     1195.00         7.00        7.35    57029.00\n",
       "50%      36534.00     6500.00         8.00        7.74   130689.00\n",
       "75%      54851.00    14345.00         9.00        8.17   271484.00\n",
       "max      73516.00    34240.00        10.00        9.37  1013917.00"
      ]
     },
     "execution_count": 17,
     "metadata": {},
     "output_type": "execute_result"
    }
   ],
   "source": [
    "round(mergeddf.describe(),2)"
   ]
  },
  {
   "cell_type": "markdown",
   "metadata": {},
   "source": [
    "Now that the merge has been completed successfully, lets drop all of the columns we dont need and remove duplicates as this will affect the creation of our sparse matrix. We also only will need the user_id, name, and rating_user columns to create the recommender system. "
   ]
  },
  {
   "cell_type": "code",
   "execution_count": 18,
   "metadata": {
    "collapsed": true
   },
   "outputs": [],
   "source": [
    "mergeddf = mergeddf[['user_id','name','rating_user']]\n",
    "mergeddf = mergeddf.drop_duplicates(['user_id','name'])"
   ]
  },
  {
   "cell_type": "code",
   "execution_count": 19,
   "metadata": {},
   "outputs": [
    {
     "data": {
      "text/html": [
       "<div>\n",
       "<style scoped>\n",
       "    .dataframe tbody tr th:only-of-type {\n",
       "        vertical-align: middle;\n",
       "    }\n",
       "\n",
       "    .dataframe tbody tr th {\n",
       "        vertical-align: top;\n",
       "    }\n",
       "\n",
       "    .dataframe thead th {\n",
       "        text-align: right;\n",
       "    }\n",
       "</style>\n",
       "<table border=\"1\" class=\"dataframe\">\n",
       "  <thead>\n",
       "    <tr style=\"text-align: right;\">\n",
       "      <th></th>\n",
       "      <th>user_id</th>\n",
       "      <th>name</th>\n",
       "      <th>rating_user</th>\n",
       "    </tr>\n",
       "  </thead>\n",
       "  <tbody>\n",
       "    <tr>\n",
       "      <th>0</th>\n",
       "      <td>1</td>\n",
       "      <td>Highschool of the Dead</td>\n",
       "      <td>10</td>\n",
       "    </tr>\n",
       "    <tr>\n",
       "      <th>1</th>\n",
       "      <td>3</td>\n",
       "      <td>Highschool of the Dead</td>\n",
       "      <td>6</td>\n",
       "    </tr>\n",
       "    <tr>\n",
       "      <th>2</th>\n",
       "      <td>5</td>\n",
       "      <td>Highschool of the Dead</td>\n",
       "      <td>2</td>\n",
       "    </tr>\n",
       "    <tr>\n",
       "      <th>3</th>\n",
       "      <td>12</td>\n",
       "      <td>Highschool of the Dead</td>\n",
       "      <td>6</td>\n",
       "    </tr>\n",
       "    <tr>\n",
       "      <th>4</th>\n",
       "      <td>14</td>\n",
       "      <td>Highschool of the Dead</td>\n",
       "      <td>6</td>\n",
       "    </tr>\n",
       "  </tbody>\n",
       "</table>\n",
       "</div>"
      ],
      "text/plain": [
       "   user_id                    name  rating_user\n",
       "0        1  Highschool of the Dead           10\n",
       "1        3  Highschool of the Dead            6\n",
       "2        5  Highschool of the Dead            2\n",
       "3       12  Highschool of the Dead            6\n",
       "4       14  Highschool of the Dead            6"
      ]
     },
     "execution_count": 19,
     "metadata": {},
     "output_type": "execute_result"
    }
   ],
   "source": [
    "mergeddf.head()"
   ]
  },
  {
   "cell_type": "markdown",
   "metadata": {},
   "source": [
    "Next, we will pivot our dataset to have the index as the anime name (rows) with each user as a column. A user will have a rating number in their column/respective anime row if they reviewed the anime. We will also fill the non-reviewed NA values to 0. When looking at anime_pivot through the head function we can clearly see this has been accomplished. \n",
    "\n",
    "We will also create a sparse matrix called anime_pivot_sparse with the csr_matrix function from scipy. "
   ]
  },
  {
   "cell_type": "code",
   "execution_count": 20,
   "metadata": {
    "collapsed": true
   },
   "outputs": [],
   "source": [
    "anime_pivot = mergeddf.pivot(index= 'name',columns='user_id',values='rating_user').fillna(0)\n",
    "anime_pivot_sparse = csr_matrix(anime_pivot.values)"
   ]
  },
  {
   "cell_type": "markdown",
   "metadata": {},
   "source": [
    "A sparse Matrix can be seen below. It Essentially represents each user as a vector of ratings. Each user who has rated an anime will have a number at the associated anime (index) row. Any show that has not been rated will be represented as a 0. The majority of elements in a sparse matrix will be 0. \n",
    "\n",
    "Now, lets run the head function and see what our new Sparse Matrix really looks like. It looks like we have 73516 users with ratings. The head function below shows what the top 10 animes in our sparse matrix look like. "
   ]
  },
  {
   "cell_type": "code",
   "execution_count": 21,
   "metadata": {},
   "outputs": [
    {
     "data": {
      "text/html": [
       "<div>\n",
       "<style scoped>\n",
       "    .dataframe tbody tr th:only-of-type {\n",
       "        vertical-align: middle;\n",
       "    }\n",
       "\n",
       "    .dataframe tbody tr th {\n",
       "        vertical-align: top;\n",
       "    }\n",
       "\n",
       "    .dataframe thead th {\n",
       "        text-align: right;\n",
       "    }\n",
       "</style>\n",
       "<table border=\"1\" class=\"dataframe\">\n",
       "  <thead>\n",
       "    <tr style=\"text-align: right;\">\n",
       "      <th>user_id</th>\n",
       "      <th>1</th>\n",
       "      <th>2</th>\n",
       "      <th>3</th>\n",
       "      <th>5</th>\n",
       "      <th>7</th>\n",
       "      <th>8</th>\n",
       "      <th>9</th>\n",
       "      <th>10</th>\n",
       "      <th>11</th>\n",
       "      <th>12</th>\n",
       "      <th>...</th>\n",
       "      <th>73507</th>\n",
       "      <th>73508</th>\n",
       "      <th>73509</th>\n",
       "      <th>73510</th>\n",
       "      <th>73511</th>\n",
       "      <th>73512</th>\n",
       "      <th>73513</th>\n",
       "      <th>73514</th>\n",
       "      <th>73515</th>\n",
       "      <th>73516</th>\n",
       "    </tr>\n",
       "    <tr>\n",
       "      <th>name</th>\n",
       "      <th></th>\n",
       "      <th></th>\n",
       "      <th></th>\n",
       "      <th></th>\n",
       "      <th></th>\n",
       "      <th></th>\n",
       "      <th></th>\n",
       "      <th></th>\n",
       "      <th></th>\n",
       "      <th></th>\n",
       "      <th></th>\n",
       "      <th></th>\n",
       "      <th></th>\n",
       "      <th></th>\n",
       "      <th></th>\n",
       "      <th></th>\n",
       "      <th></th>\n",
       "      <th></th>\n",
       "      <th></th>\n",
       "      <th></th>\n",
       "      <th></th>\n",
       "    </tr>\n",
       "  </thead>\n",
       "  <tbody>\n",
       "    <tr>\n",
       "      <th>&amp;quot;Bungaku Shoujo&amp;quot; Kyou no Oyatsu: Hatsukoi</th>\n",
       "      <td>0.0</td>\n",
       "      <td>0.0</td>\n",
       "      <td>0.0</td>\n",
       "      <td>0.0</td>\n",
       "      <td>0.0</td>\n",
       "      <td>0.0</td>\n",
       "      <td>0.0</td>\n",
       "      <td>0.0</td>\n",
       "      <td>0.0</td>\n",
       "      <td>0.0</td>\n",
       "      <td>...</td>\n",
       "      <td>0.0</td>\n",
       "      <td>0.0</td>\n",
       "      <td>0.0</td>\n",
       "      <td>0.0</td>\n",
       "      <td>0.0</td>\n",
       "      <td>0.0</td>\n",
       "      <td>0.0</td>\n",
       "      <td>0.0</td>\n",
       "      <td>0.0</td>\n",
       "      <td>0.0</td>\n",
       "    </tr>\n",
       "    <tr>\n",
       "      <th>&amp;quot;Bungaku Shoujo&amp;quot; Memoire</th>\n",
       "      <td>0.0</td>\n",
       "      <td>0.0</td>\n",
       "      <td>0.0</td>\n",
       "      <td>0.0</td>\n",
       "      <td>0.0</td>\n",
       "      <td>0.0</td>\n",
       "      <td>0.0</td>\n",
       "      <td>0.0</td>\n",
       "      <td>0.0</td>\n",
       "      <td>0.0</td>\n",
       "      <td>...</td>\n",
       "      <td>0.0</td>\n",
       "      <td>0.0</td>\n",
       "      <td>0.0</td>\n",
       "      <td>6.0</td>\n",
       "      <td>0.0</td>\n",
       "      <td>0.0</td>\n",
       "      <td>0.0</td>\n",
       "      <td>0.0</td>\n",
       "      <td>0.0</td>\n",
       "      <td>0.0</td>\n",
       "    </tr>\n",
       "    <tr>\n",
       "      <th>&amp;quot;Bungaku Shoujo&amp;quot; Movie</th>\n",
       "      <td>0.0</td>\n",
       "      <td>0.0</td>\n",
       "      <td>0.0</td>\n",
       "      <td>0.0</td>\n",
       "      <td>0.0</td>\n",
       "      <td>0.0</td>\n",
       "      <td>0.0</td>\n",
       "      <td>0.0</td>\n",
       "      <td>0.0</td>\n",
       "      <td>0.0</td>\n",
       "      <td>...</td>\n",
       "      <td>0.0</td>\n",
       "      <td>0.0</td>\n",
       "      <td>0.0</td>\n",
       "      <td>0.0</td>\n",
       "      <td>0.0</td>\n",
       "      <td>0.0</td>\n",
       "      <td>0.0</td>\n",
       "      <td>0.0</td>\n",
       "      <td>0.0</td>\n",
       "      <td>0.0</td>\n",
       "    </tr>\n",
       "    <tr>\n",
       "      <th>.hack//G.U. Returner</th>\n",
       "      <td>0.0</td>\n",
       "      <td>0.0</td>\n",
       "      <td>0.0</td>\n",
       "      <td>0.0</td>\n",
       "      <td>0.0</td>\n",
       "      <td>0.0</td>\n",
       "      <td>0.0</td>\n",
       "      <td>0.0</td>\n",
       "      <td>0.0</td>\n",
       "      <td>0.0</td>\n",
       "      <td>...</td>\n",
       "      <td>0.0</td>\n",
       "      <td>0.0</td>\n",
       "      <td>0.0</td>\n",
       "      <td>0.0</td>\n",
       "      <td>0.0</td>\n",
       "      <td>0.0</td>\n",
       "      <td>0.0</td>\n",
       "      <td>0.0</td>\n",
       "      <td>0.0</td>\n",
       "      <td>0.0</td>\n",
       "    </tr>\n",
       "    <tr>\n",
       "      <th>.hack//G.U. Trilogy</th>\n",
       "      <td>0.0</td>\n",
       "      <td>0.0</td>\n",
       "      <td>0.0</td>\n",
       "      <td>0.0</td>\n",
       "      <td>0.0</td>\n",
       "      <td>0.0</td>\n",
       "      <td>0.0</td>\n",
       "      <td>0.0</td>\n",
       "      <td>0.0</td>\n",
       "      <td>0.0</td>\n",
       "      <td>...</td>\n",
       "      <td>0.0</td>\n",
       "      <td>0.0</td>\n",
       "      <td>0.0</td>\n",
       "      <td>0.0</td>\n",
       "      <td>0.0</td>\n",
       "      <td>0.0</td>\n",
       "      <td>0.0</td>\n",
       "      <td>0.0</td>\n",
       "      <td>0.0</td>\n",
       "      <td>0.0</td>\n",
       "    </tr>\n",
       "    <tr>\n",
       "      <th>.hack//Gift</th>\n",
       "      <td>0.0</td>\n",
       "      <td>0.0</td>\n",
       "      <td>0.0</td>\n",
       "      <td>0.0</td>\n",
       "      <td>0.0</td>\n",
       "      <td>0.0</td>\n",
       "      <td>0.0</td>\n",
       "      <td>0.0</td>\n",
       "      <td>0.0</td>\n",
       "      <td>0.0</td>\n",
       "      <td>...</td>\n",
       "      <td>0.0</td>\n",
       "      <td>0.0</td>\n",
       "      <td>0.0</td>\n",
       "      <td>0.0</td>\n",
       "      <td>0.0</td>\n",
       "      <td>0.0</td>\n",
       "      <td>0.0</td>\n",
       "      <td>0.0</td>\n",
       "      <td>0.0</td>\n",
       "      <td>0.0</td>\n",
       "    </tr>\n",
       "    <tr>\n",
       "      <th>.hack//Intermezzo</th>\n",
       "      <td>0.0</td>\n",
       "      <td>0.0</td>\n",
       "      <td>0.0</td>\n",
       "      <td>0.0</td>\n",
       "      <td>0.0</td>\n",
       "      <td>0.0</td>\n",
       "      <td>0.0</td>\n",
       "      <td>0.0</td>\n",
       "      <td>0.0</td>\n",
       "      <td>0.0</td>\n",
       "      <td>...</td>\n",
       "      <td>0.0</td>\n",
       "      <td>0.0</td>\n",
       "      <td>0.0</td>\n",
       "      <td>0.0</td>\n",
       "      <td>0.0</td>\n",
       "      <td>0.0</td>\n",
       "      <td>0.0</td>\n",
       "      <td>0.0</td>\n",
       "      <td>0.0</td>\n",
       "      <td>0.0</td>\n",
       "    </tr>\n",
       "    <tr>\n",
       "      <th>.hack//Liminality</th>\n",
       "      <td>0.0</td>\n",
       "      <td>0.0</td>\n",
       "      <td>0.0</td>\n",
       "      <td>0.0</td>\n",
       "      <td>0.0</td>\n",
       "      <td>0.0</td>\n",
       "      <td>0.0</td>\n",
       "      <td>0.0</td>\n",
       "      <td>0.0</td>\n",
       "      <td>0.0</td>\n",
       "      <td>...</td>\n",
       "      <td>0.0</td>\n",
       "      <td>0.0</td>\n",
       "      <td>0.0</td>\n",
       "      <td>0.0</td>\n",
       "      <td>0.0</td>\n",
       "      <td>0.0</td>\n",
       "      <td>0.0</td>\n",
       "      <td>0.0</td>\n",
       "      <td>0.0</td>\n",
       "      <td>0.0</td>\n",
       "    </tr>\n",
       "    <tr>\n",
       "      <th>.hack//Quantum</th>\n",
       "      <td>0.0</td>\n",
       "      <td>0.0</td>\n",
       "      <td>0.0</td>\n",
       "      <td>0.0</td>\n",
       "      <td>0.0</td>\n",
       "      <td>0.0</td>\n",
       "      <td>0.0</td>\n",
       "      <td>0.0</td>\n",
       "      <td>0.0</td>\n",
       "      <td>0.0</td>\n",
       "      <td>...</td>\n",
       "      <td>0.0</td>\n",
       "      <td>0.0</td>\n",
       "      <td>0.0</td>\n",
       "      <td>0.0</td>\n",
       "      <td>0.0</td>\n",
       "      <td>0.0</td>\n",
       "      <td>0.0</td>\n",
       "      <td>0.0</td>\n",
       "      <td>0.0</td>\n",
       "      <td>0.0</td>\n",
       "    </tr>\n",
       "    <tr>\n",
       "      <th>.hack//Roots</th>\n",
       "      <td>0.0</td>\n",
       "      <td>0.0</td>\n",
       "      <td>0.0</td>\n",
       "      <td>0.0</td>\n",
       "      <td>0.0</td>\n",
       "      <td>0.0</td>\n",
       "      <td>0.0</td>\n",
       "      <td>0.0</td>\n",
       "      <td>0.0</td>\n",
       "      <td>0.0</td>\n",
       "      <td>...</td>\n",
       "      <td>0.0</td>\n",
       "      <td>0.0</td>\n",
       "      <td>0.0</td>\n",
       "      <td>0.0</td>\n",
       "      <td>0.0</td>\n",
       "      <td>0.0</td>\n",
       "      <td>0.0</td>\n",
       "      <td>0.0</td>\n",
       "      <td>0.0</td>\n",
       "      <td>0.0</td>\n",
       "    </tr>\n",
       "  </tbody>\n",
       "</table>\n",
       "<p>10 rows × 69498 columns</p>\n",
       "</div>"
      ],
      "text/plain": [
       "user_id                                             1      2      3      \\\n",
       "name                                                                      \n",
       "&quot;Bungaku Shoujo&quot; Kyou no Oyatsu: Hats...    0.0    0.0    0.0   \n",
       "&quot;Bungaku Shoujo&quot; Memoire                    0.0    0.0    0.0   \n",
       "&quot;Bungaku Shoujo&quot; Movie                      0.0    0.0    0.0   \n",
       ".hack//G.U. Returner                                  0.0    0.0    0.0   \n",
       ".hack//G.U. Trilogy                                   0.0    0.0    0.0   \n",
       ".hack//Gift                                           0.0    0.0    0.0   \n",
       ".hack//Intermezzo                                     0.0    0.0    0.0   \n",
       ".hack//Liminality                                     0.0    0.0    0.0   \n",
       ".hack//Quantum                                        0.0    0.0    0.0   \n",
       ".hack//Roots                                          0.0    0.0    0.0   \n",
       "\n",
       "user_id                                             5      7      8      \\\n",
       "name                                                                      \n",
       "&quot;Bungaku Shoujo&quot; Kyou no Oyatsu: Hats...    0.0    0.0    0.0   \n",
       "&quot;Bungaku Shoujo&quot; Memoire                    0.0    0.0    0.0   \n",
       "&quot;Bungaku Shoujo&quot; Movie                      0.0    0.0    0.0   \n",
       ".hack//G.U. Returner                                  0.0    0.0    0.0   \n",
       ".hack//G.U. Trilogy                                   0.0    0.0    0.0   \n",
       ".hack//Gift                                           0.0    0.0    0.0   \n",
       ".hack//Intermezzo                                     0.0    0.0    0.0   \n",
       ".hack//Liminality                                     0.0    0.0    0.0   \n",
       ".hack//Quantum                                        0.0    0.0    0.0   \n",
       ".hack//Roots                                          0.0    0.0    0.0   \n",
       "\n",
       "user_id                                             9      10     11     \\\n",
       "name                                                                      \n",
       "&quot;Bungaku Shoujo&quot; Kyou no Oyatsu: Hats...    0.0    0.0    0.0   \n",
       "&quot;Bungaku Shoujo&quot; Memoire                    0.0    0.0    0.0   \n",
       "&quot;Bungaku Shoujo&quot; Movie                      0.0    0.0    0.0   \n",
       ".hack//G.U. Returner                                  0.0    0.0    0.0   \n",
       ".hack//G.U. Trilogy                                   0.0    0.0    0.0   \n",
       ".hack//Gift                                           0.0    0.0    0.0   \n",
       ".hack//Intermezzo                                     0.0    0.0    0.0   \n",
       ".hack//Liminality                                     0.0    0.0    0.0   \n",
       ".hack//Quantum                                        0.0    0.0    0.0   \n",
       ".hack//Roots                                          0.0    0.0    0.0   \n",
       "\n",
       "user_id                                             12     ...    73507  \\\n",
       "name                                                       ...            \n",
       "&quot;Bungaku Shoujo&quot; Kyou no Oyatsu: Hats...    0.0  ...      0.0   \n",
       "&quot;Bungaku Shoujo&quot; Memoire                    0.0  ...      0.0   \n",
       "&quot;Bungaku Shoujo&quot; Movie                      0.0  ...      0.0   \n",
       ".hack//G.U. Returner                                  0.0  ...      0.0   \n",
       ".hack//G.U. Trilogy                                   0.0  ...      0.0   \n",
       ".hack//Gift                                           0.0  ...      0.0   \n",
       ".hack//Intermezzo                                     0.0  ...      0.0   \n",
       ".hack//Liminality                                     0.0  ...      0.0   \n",
       ".hack//Quantum                                        0.0  ...      0.0   \n",
       ".hack//Roots                                          0.0  ...      0.0   \n",
       "\n",
       "user_id                                             73508  73509  73510  \\\n",
       "name                                                                      \n",
       "&quot;Bungaku Shoujo&quot; Kyou no Oyatsu: Hats...    0.0    0.0    0.0   \n",
       "&quot;Bungaku Shoujo&quot; Memoire                    0.0    0.0    6.0   \n",
       "&quot;Bungaku Shoujo&quot; Movie                      0.0    0.0    0.0   \n",
       ".hack//G.U. Returner                                  0.0    0.0    0.0   \n",
       ".hack//G.U. Trilogy                                   0.0    0.0    0.0   \n",
       ".hack//Gift                                           0.0    0.0    0.0   \n",
       ".hack//Intermezzo                                     0.0    0.0    0.0   \n",
       ".hack//Liminality                                     0.0    0.0    0.0   \n",
       ".hack//Quantum                                        0.0    0.0    0.0   \n",
       ".hack//Roots                                          0.0    0.0    0.0   \n",
       "\n",
       "user_id                                             73511  73512  73513  \\\n",
       "name                                                                      \n",
       "&quot;Bungaku Shoujo&quot; Kyou no Oyatsu: Hats...    0.0    0.0    0.0   \n",
       "&quot;Bungaku Shoujo&quot; Memoire                    0.0    0.0    0.0   \n",
       "&quot;Bungaku Shoujo&quot; Movie                      0.0    0.0    0.0   \n",
       ".hack//G.U. Returner                                  0.0    0.0    0.0   \n",
       ".hack//G.U. Trilogy                                   0.0    0.0    0.0   \n",
       ".hack//Gift                                           0.0    0.0    0.0   \n",
       ".hack//Intermezzo                                     0.0    0.0    0.0   \n",
       ".hack//Liminality                                     0.0    0.0    0.0   \n",
       ".hack//Quantum                                        0.0    0.0    0.0   \n",
       ".hack//Roots                                          0.0    0.0    0.0   \n",
       "\n",
       "user_id                                             73514  73515  73516  \n",
       "name                                                                     \n",
       "&quot;Bungaku Shoujo&quot; Kyou no Oyatsu: Hats...    0.0    0.0    0.0  \n",
       "&quot;Bungaku Shoujo&quot; Memoire                    0.0    0.0    0.0  \n",
       "&quot;Bungaku Shoujo&quot; Movie                      0.0    0.0    0.0  \n",
       ".hack//G.U. Returner                                  0.0    0.0    0.0  \n",
       ".hack//G.U. Trilogy                                   0.0    0.0    0.0  \n",
       ".hack//Gift                                           0.0    0.0    0.0  \n",
       ".hack//Intermezzo                                     0.0    0.0    0.0  \n",
       ".hack//Liminality                                     0.0    0.0    0.0  \n",
       ".hack//Quantum                                        0.0    0.0    0.0  \n",
       ".hack//Roots                                          0.0    0.0    0.0  \n",
       "\n",
       "[10 rows x 69498 columns]"
      ]
     },
     "execution_count": 21,
     "metadata": {},
     "output_type": "execute_result"
    }
   ],
   "source": [
    "anime_pivot.head(10)"
   ]
  },
  {
   "cell_type": "markdown",
   "metadata": {},
   "source": [
    "#### Build Recommender System with k-nearest neighbors "
   ]
  },
  {
   "cell_type": "markdown",
   "metadata": {},
   "source": [
    "To build our Recommender System we will be using the K-Nearest Neighbors model with the number of neighbors parameter set as 9. We will also be utilizing the brute force method and cosine distance metric. We will then fit the model to the sparse matrix we just created.  \n",
    "\n",
    "What is the K-Nearest Neighbors Algorithm ? \n",
    "It is a non-parametric clustering algorithm generally used for classification and regression. In the case of this tutorial, it is used to find the similarity between the queried anime and other animes based on users past rating vectors.\n",
    "\n",
    "Nearest neighbors means exactly what it states in this example. For example, lets say we queried the anime (Dragon Ball), in this case the nearest neighbors model would look at the users who have the greatest similarity based on what they viewed and recommend similar things they have watched. The animes with the highest similar user ratings based on cosine distance from a vector perspective will be considered the nearest neighbors and recommendations in the model. \n",
    "\n",
    "\n",
    "![Comparison](https://i2.wp.com/dataaspirant.com/wp-content/uploads/2015/01/first.png?w=940)\n"
   ]
  },
  {
   "cell_type": "code",
   "execution_count": 22,
   "metadata": {
    "collapsed": true
   },
   "outputs": [],
   "source": [
    "knn = NearestNeighbors(n_neighbors=9,algorithm= 'brute', metric= 'cosine')\n",
    "model_knn = knn.fit(anime_pivot_sparse)"
   ]
  },
  {
   "cell_type": "markdown",
   "metadata": {},
   "source": [
    "Lets try our Model now and try to generate the top 10 recommendations for each anime and see what our model recommends. The lower the distance the better in this case as this would indicate more similarity between the show and users who watch the show. "
   ]
  },
  {
   "cell_type": "markdown",
   "metadata": {},
   "source": [
    "#### Test Our Recommender System"
   ]
  },
  {
   "cell_type": "markdown",
   "metadata": {},
   "source": [
    "##### Search Function\n",
    "\n",
    "I first created a search function as I imagined it would be quite hard to find specific animes in the dataset. Lets first look for Hajime and see if we can get Hajime no Ippo to return. It looks like we have quite a few animes with the name Hajime no Ippo. "
   ]
  },
  {
   "cell_type": "code",
   "execution_count": 23,
   "metadata": {},
   "outputs": [
    {
     "name": "stdout",
     "output_type": "stream",
     "text": [
      "Index(['Bokura wa Minna Kawaisou: Hajimete no', 'Hajime no Ippo',\n",
      "       'Hajime no Ippo: Boxer no Kobushi', 'Hajime no Ippo: Champion Road',\n",
      "       'Hajime no Ippo: Mashiba vs. Kimura', 'Hajime no Ippo: New Challenger',\n",
      "       'Hajime no Ippo: Rising', 'Kamisama Hajimemashita',\n",
      "       'Kamisama Hajimemashita OVA', 'Kamisama Hajimemashita: Kako-hen',\n",
      "       'Kamisama Hajimemashita◎', 'Kyou, Koi wo Hajimemasu',\n",
      "       'Natsume Yuujinchou: Nyanko-sensei to Hajimete no Otsukai',\n",
      "       'Re:Petit kara Hajimeru Isekai Seikatsu',\n",
      "       'Re:Zero kara Hajimeru Break Time',\n",
      "       'Re:Zero kara Hajimeru Isekai Seikatsu',\n",
      "       'Sekirei: Hajimete no Otsukai'],\n",
      "      dtype='object', name='name')\n"
     ]
    }
   ],
   "source": [
    "user_input = input(\"Search for Anime: \")\n",
    "\n",
    "def searchanime(string):\n",
    "    print(anime_pivot[anime_pivot.index.str.contains(string)].index[0:])  \n",
    "searchanime(user_input)"
   ]
  },
  {
   "cell_type": "markdown",
   "metadata": {},
   "source": [
    "The next step is to test our recommender system where we will input anime names to return 10 recommendations for each anime. Lets hope we get some good recommendations! "
   ]
  },
  {
   "cell_type": "markdown",
   "metadata": {},
   "source": [
    "##### Recommendations for Hajime no Ippo: "
   ]
  },
  {
   "cell_type": "code",
   "execution_count": 24,
   "metadata": {},
   "outputs": [
    {
     "name": "stdout",
     "output_type": "stream",
     "text": [
      "Recommendations if you like the anime Hajime no Ippo:\n",
      "\n",
      "1: Hajime no Ippo: New Challenger with distance: 0.16171263372777\n",
      "2: Hajime no Ippo: Champion Road with distance: 0.30597377816318394\n",
      "3: Hajime no Ippo: Mashiba vs. Kimura with distance: 0.34948858340614675\n",
      "4: Hajime no Ippo: Rising with distance: 0.3635742899878238\n",
      "5: Hajime no Ippo: Boxer no Kobushi with distance: 0.5808237633855784\n",
      "6: Great Teacher Onizuka with distance: 0.6271421261955552\n",
      "7: Shijou Saikyou no Deshi Kenichi with distance: 0.6428821544076411\n",
      "8: Major S1 with distance: 0.6575993793656698\n",
      "9: Major S2 with distance: 0.6623633646779645\n",
      "10: One Outs with distance: 0.6644591854339764\n"
     ]
    }
   ],
   "source": [
    "Anime = 'Hajime no Ippo'\n",
    "\n",
    "distance, indice = model_knn.kneighbors(anime_pivot.iloc[anime_pivot.index== Anime].values.reshape(1,-1),n_neighbors=11)\n",
    "for i in range(0, len(distance.flatten())):\n",
    "    if  i == 0:\n",
    "        print('Recommendations if you like the anime {0}:\\n'.format(anime_pivot[anime_pivot.index== Anime].index[0]))\n",
    "    else:\n",
    "        print('{0}: {1} with distance: {2}'.format(i,anime_pivot.index[indice.flatten()[i]],distance.flatten()[i]))"
   ]
  },
  {
   "cell_type": "markdown",
   "metadata": {},
   "source": [
    "#### Recommendations for Pokemon:"
   ]
  },
  {
   "cell_type": "code",
   "execution_count": 25,
   "metadata": {},
   "outputs": [
    {
     "name": "stdout",
     "output_type": "stream",
     "text": [
      "Recommendations if you like the anime Pokemon:\n",
      "\n",
      "1: Pokemon Advanced Generation with distance: 0.4431031300032995\n",
      "2: Pokemon: Mewtwo no Gyakushuu with distance: 0.5273494641299561\n",
      "3: Pokemon: Kesshoutou no Teiou Entei with distance: 0.5434061482894894\n",
      "4: Pokemon: Maboroshi no Pokemon Lugia Bakutan with distance: 0.5455007237642211\n",
      "5: Digimon Adventure with distance: 0.5687834394950073\n",
      "6: Pokemon: Celebi Toki wo Koeta Deai with distance: 0.5873511824078185\n",
      "7: Pokemon Diamond &amp; Pearl with distance: 0.5907299565599141\n",
      "8: Yu☆Gi☆Oh! Duel Monsters with distance: 0.6044038180543316\n",
      "9: Pokemon Advanced Generation: Mew to Hadou no Yuusha Lucario with distance: 0.6070726790837473\n",
      "10: Dragon Ball Z with distance: 0.6207032862371291\n"
     ]
    }
   ],
   "source": [
    "Anime = 'Pokemon'\n",
    "\n",
    "distance, indice = model_knn.kneighbors(anime_pivot.iloc[anime_pivot.index== Anime].values.reshape(1,-1),n_neighbors=11)\n",
    "for i in range(0, len(distance.flatten())):\n",
    "    if  i == 0:\n",
    "        print('Recommendations if you like the anime {0}:\\n'.format(anime_pivot[anime_pivot.index== Anime].index[0]))\n",
    "    else:\n",
    "        print('{0}: {1} with distance: {2}'.format(i,anime_pivot.index[indice.flatten()[i]],distance.flatten()[i]))"
   ]
  },
  {
   "cell_type": "markdown",
   "metadata": {},
   "source": [
    "#### Recommendations for Dragon Ball:"
   ]
  },
  {
   "cell_type": "code",
   "execution_count": 26,
   "metadata": {},
   "outputs": [
    {
     "name": "stdout",
     "output_type": "stream",
     "text": [
      "Recommendations if you like the anime Dragon Ball:\n",
      "\n",
      "1: Dragon Ball Z with distance: 0.23832943608906398\n",
      "2: Dragon Ball GT with distance: 0.28588038713390795\n",
      "3: Naruto with distance: 0.5771994935064382\n",
      "4: Death Note with distance: 0.5888544933859206\n",
      "5: Fullmetal Alchemist with distance: 0.614951748870641\n",
      "6: Dragon Ball Z Movie 08: Moetsukiro!! Nessen, Ressen, Chougekisen with distance: 0.6193327841505586\n",
      "7: Dragon Ball Z Movie 01: Ora no Gohan wo Kaese!! with distance: 0.621487480304885\n",
      "8: Dragon Ball Kai with distance: 0.6229613870214002\n",
      "9: Digimon Adventure with distance: 0.6231310497448332\n",
      "10: Dragon Ball Z Movie 05: Tobikkiri no Saikyou tai Saikyou with distance: 0.6270581114743166\n"
     ]
    }
   ],
   "source": [
    "Anime = 'Dragon Ball'\n",
    "\n",
    "distance, indice = model_knn.kneighbors(anime_pivot.iloc[anime_pivot.index== Anime].values.reshape(1,-1),n_neighbors=11)\n",
    "for i in range(0, len(distance.flatten())):\n",
    "    if  i == 0:\n",
    "        print('Recommendations if you like the anime {0}:\\n'.format(anime_pivot[anime_pivot.index== Anime].index[0]))\n",
    "    else:\n",
    "        print('{0}: {1} with distance: {2}'.format(i,anime_pivot.index[indice.flatten()[i]],distance.flatten()[i]))"
   ]
  },
  {
   "cell_type": "markdown",
   "metadata": {},
   "source": [
    "#### Recommendations for Kimi no Na wa:"
   ]
  },
  {
   "cell_type": "code",
   "execution_count": 27,
   "metadata": {},
   "outputs": [
    {
     "name": "stdout",
     "output_type": "stream",
     "text": [
      "Recommendations if you like the anime Kimi no Na wa.:\n",
      "\n",
      "1: Boku dake ga Inai Machi with distance: 0.6855242894481091\n",
      "2: Re:Zero kara Hajimeru Isekai Seikatsu with distance: 0.6968551384446042\n",
      "3: Shigatsu wa Kimi no Uso with distance: 0.703281384251974\n",
      "4: ReLIFE with distance: 0.7191316277184874\n",
      "5: One Punch Man with distance: 0.7426460533821271\n",
      "6: Charlotte with distance: 0.7434996132820642\n",
      "7: Noragami Aragoto with distance: 0.7486936229508915\n",
      "8: Shokugeki no Souma with distance: 0.7585646506908518\n",
      "9: Yahari Ore no Seishun Love Comedy wa Machigatteiru. Zoku with distance: 0.7602916580493286\n",
      "10: Noragami with distance: 0.7612671872707739\n"
     ]
    }
   ],
   "source": [
    "Anime = 'Kimi no Na wa.'\n",
    "\n",
    "distance, indice = model_knn.kneighbors(anime_pivot.iloc[anime_pivot.index== Anime].values.reshape(1,-1),n_neighbors=11)\n",
    "for i in range(0, len(distance.flatten())):\n",
    "    if  i == 0:\n",
    "        print('Recommendations if you like the anime {0}:\\n'.format(anime_pivot[anime_pivot.index== Anime].index[0]))\n",
    "    else:\n",
    "        print('{0}: {1} with distance: {2}'.format(i,anime_pivot.index[indice.flatten()[i]],distance.flatten()[i]))"
   ]
  },
  {
   "cell_type": "markdown",
   "metadata": {},
   "source": [
    "#### Recommendations for Hunter x Hunter:"
   ]
  },
  {
   "cell_type": "code",
   "execution_count": 28,
   "metadata": {},
   "outputs": [
    {
     "name": "stdout",
     "output_type": "stream",
     "text": [
      "Recommendations if you like the anime Hunter x Hunter:\n",
      "\n",
      "1: Hunter x Hunter: Greed Island with distance: 0.30129951088727835\n",
      "2: Hunter x Hunter: Greed Island Final with distance: 0.3083582686288663\n",
      "3: Hunter x Hunter OVA with distance: 0.3108793525788244\n",
      "4: Hunter x Hunter (2011) with distance: 0.6907013813572384\n",
      "5: Hajime no Ippo with distance: 0.6983307629235063\n",
      "6: Slam Dunk with distance: 0.7081438549910755\n",
      "7: Fullmetal Alchemist with distance: 0.7084124786289742\n",
      "8: Naruto with distance: 0.7090694095508168\n",
      "9: Yuu☆Yuu☆Hakusho with distance: 0.7123776276729162\n",
      "10: Rurouni Kenshin: Meiji Kenkaku Romantan with distance: 0.721888632207479\n"
     ]
    }
   ],
   "source": [
    "Anime = 'Hunter x Hunter'\n",
    "\n",
    "distance, indice = model_knn.kneighbors(anime_pivot.iloc[anime_pivot.index== Anime].values.reshape(1,-1),n_neighbors=11)\n",
    "for i in range(0, len(distance.flatten())):\n",
    "    if  i == 0:\n",
    "        print('Recommendations if you like the anime {0}:\\n'.format(anime_pivot[anime_pivot.index== Anime].index[0]))\n",
    "    else:\n",
    "        print('{0}: {1} with distance: {2}'.format(i,anime_pivot.index[indice.flatten()[i]],distance.flatten()[i]))"
   ]
  },
  {
   "cell_type": "markdown",
   "metadata": {},
   "source": [
    "### Conclusion"
   ]
  },
  {
   "cell_type": "markdown",
   "metadata": {},
   "source": [
    "This concludes our Collaborative Filtering Recommender System with the Anime Recommendations Dataset. This may not be the best recommender system out there on the market today but it serves as a good introduction to the world of recommender systems. From my personal viewing experience, I feel the models were pretty accurate in regards to Anime recommendations for the above animes. "
   ]
  }
 ],
 "metadata": {
  "kernelspec": {
   "display_name": "Python 3",
   "language": "python",
   "name": "python3"
  },
  "language_info": {
   "codemirror_mode": {
    "name": "ipython",
    "version": 3
   },
   "file_extension": ".py",
   "mimetype": "text/x-python",
   "name": "python",
   "nbconvert_exporter": "python",
   "pygments_lexer": "ipython3",
   "version": "3.6.3"
  },
  "varInspector": {
   "cols": {
    "lenName": 16,
    "lenType": 16,
    "lenVar": 40
   },
   "kernels_config": {
    "python": {
     "delete_cmd_postfix": "",
     "delete_cmd_prefix": "del ",
     "library": "var_list.py",
     "varRefreshCmd": "print(var_dic_list())"
    },
    "r": {
     "delete_cmd_postfix": ") ",
     "delete_cmd_prefix": "rm(",
     "library": "var_list.r",
     "varRefreshCmd": "cat(var_dic_list()) "
    }
   },
   "position": {
    "height": "223px",
    "left": "40.9453px",
    "right": "20px",
    "top": "151.945px",
    "width": "283px"
   },
   "types_to_exclude": [
    "module",
    "function",
    "builtin_function_or_method",
    "instance",
    "_Feature"
   ],
   "window_display": true
  }
 },
 "nbformat": 4,
 "nbformat_minor": 2
}
